{
 "cells": [
  {
   "cell_type": "markdown",
   "metadata": {},
   "source": [
    "# NFL Team Rankings Data Exploration\n",
    "\n",
    "This notebook is used for exploring the NFL team rankings data, including offensive and defensive statistics, and the calculated rankings."
   ]
  },
  {
   "cell_type": "code",
   "execution_count": 1,
   "metadata": {},
   "outputs": [],
   "source": [
    "import pandas as pd\n",
    "import matplotlib.pyplot as plt\n",
    "\n",
    "# Load offensive and defensive statistics\n",
    "offensive_stats = pd.read_csv('../data/raw/offensive_stats.csv')\n",
    "defensive_stats = pd.read_csv('../data/raw/defensive_stats.csv')\n",
    "\n",
    "# Load calculated scores\n",
    "offensive_scores = pd.read_csv('../data/processed/offensive_scores.csv')\n",
    "defensive_scores = pd.read_csv('../data/processed/defensive_scores.csv')\n",
    "\n",
    "# Load team rankings\n",
    "team_rankings = pd.read_csv('../data/processed/team_rankings.csv')\n",
    "\n",
    "# Display the first few rows of each dataset\n",
    "display(offensive_stats.head())\n",
    "display(defensive_stats.head())\n",
    "display(offensive_scores.head())\n",
    "display(defensive_scores.head())\n",
    "display(team_rankings.head())"
   ]
  },
  {
   "cell_type": "markdown",
   "metadata": {},
   "source": [
    "## Offensive Statistics"
   ]
  },
  {
   "cell_type": "code",
   "execution_count": 2,
   "metadata": {},
   "outputs": [],
   "source": [
    "# Plot offensive statistics\n",
    "offensive_stats.plot(x='Team', y=['Yds', 'TD'], kind='bar', figsize=(15, 7))\n",
    "plt.title('Offensive Statistics')\n",
    "plt.xlabel('Team')\n",
    "plt.ylabel('Values')\n",
    "plt.show()"
   ]
  },
  {
   "cell_type": "markdown",
   "metadata": {},
   "source": [
    "## Defensive Statistics"
   ]
  },
  {
   "cell_type": "code",
   "execution_count": 3,
   "metadata": {},
   "outputs": [],
   "source": [
    "# Plot defensive statistics\n",
    "defensive_stats.plot(x='Team', y=['Yds', 'TD'], kind='bar', figsize=(15, 7))\n",
    "plt.title('Defensive Statistics')\n",
    "plt.xlabel('Team')\n",
    "plt.ylabel('Values')\n",
    "plt.show()"
   ]
  },
  {
   "cell_type": "markdown",
   "metadata": {},
   "source": [
    "## Team Rankings"
   ]
  },
  {
   "cell_type": "code",
   "execution_count": 4,
   "metadata": {},
   "outputs": [],
   "source": [
    "# Plot team rankings\n",
    "team_rankings.plot(x='Team', y='Total_Score', kind='bar', figsize=(15, 7))\n",
    "plt.title('Team Rankings')\n",
    "plt.xlabel('Team')\n",
    "plt.ylabel('Total Score')\n",
    "plt.show()"
   ]
  }
 ],
 "metadata": {
  "kernelspec": {
   "display_name": "Python 3",
   "language": "python",
   "name": "python3"
  },
  "language_info": {
   "codemirror_mode": {
    "name": "ipython",
    "version": 3
   },
   "file_extension": ".py",
   "mimetype": "text/x-python",
   "name": "python",
   "nbconvert_exporter": "python",
   "pygments_lexer": "ipython3",
   "version": "3.8.5"
  }
 },
 "nbformat": 4,
 "nbformat_minor": 4
}
